{
 "cells": [
  {
   "cell_type": "code",
   "execution_count": 26,
   "id": "1ec5bb1a-6fe7-4318-ab93-75c00b6b8aeb",
   "metadata": {
    "tags": []
   },
   "outputs": [
    {
     "name": "stdout",
     "output_type": "stream",
     "text": [
      "3 hours 20 minutes\n"
     ]
    }
   ],
   "source": [
    "## This will convert 200 minutes to hours by diving by 60\n",
    "\n",
    "i=200//60\n",
    "k=200%60\n",
    "\n",
    "print(i,\"hours\",k,\"minutes\")"
   ]
  },
  {
   "cell_type": "markdown",
   "id": "57f6b66a-6de1-48f6-aeac-98e6fb8a2866",
   "metadata": {},
   "source": [
    "# Objectives\n",
    "## List popular languages for Data Science\n",
    "* Java\n",
    "* R\n",
    "* Julia\n",
    "* C++\n",
    "* Javascript"
   ]
  },
  {
   "cell_type": "markdown",
   "id": "c7e43bb0-8a38-4d7a-baf6-0959cfd9cd89",
   "metadata": {},
   "source": [
    "## Author\n",
    "YJC"
   ]
  },
  {
   "cell_type": "code",
   "execution_count": null,
   "id": "416dc286-3554-4d59-988d-be2cff589575",
   "metadata": {},
   "outputs": [],
   "source": []
  }
 ],
 "metadata": {
  "kernelspec": {
   "display_name": "Python",
   "language": "python",
   "name": "conda-env-python-py"
  },
  "language_info": {
   "codemirror_mode": {
    "name": "ipython",
    "version": 3
   },
   "file_extension": ".py",
   "mimetype": "text/x-python",
   "name": "python",
   "nbconvert_exporter": "python",
   "pygments_lexer": "ipython3",
   "version": "3.7.12"
  }
 },
 "nbformat": 4,
 "nbformat_minor": 5
}
